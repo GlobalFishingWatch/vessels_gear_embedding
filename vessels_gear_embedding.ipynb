{
 "cells": [
  {
   "cell_type": "code",
   "execution_count": 1,
   "metadata": {},
   "outputs": [
    {
     "name": "stdout",
     "output_type": "stream",
     "text": [
      "Populating the interactive namespace from numpy and matplotlib\n"
     ]
    }
   ],
   "source": [
    "%pylab inline\n",
    "import sklearn.cluster\n",
    "import itertools"
   ]
  },
  {
   "cell_type": "code",
   "execution_count": 2,
   "metadata": {
    "collapsed": true
   },
   "outputs": [],
   "source": [
    "def calculate_confusion_matrix(data, datalabels, xlabels, ylabels):\n",
    "    cm = np.zeros((len(ylabels), len(xlabels)))\n",
    "    for i in ylabels:\n",
    "        cm[i,:] = data[datalabels == i,:].mean(axis=0)\n",
    "        \n",
    "    maxs = cm.argmax(axis=0)\n",
    "    sorted_xlabels = sorted(xlabels, lambda a, b: cmp(maxs[xlabels.index(a)], maxs[xlabels.index(b)]))\n",
    "    sorted_cm = cm[:,[xlabels.index(xlabel) for xlabel in sorted_xlabels]]        \n",
    "        \n",
    "    return sorted_cm, sorted_xlabels, [str(l) for l in ylabels]\n"
   ]
  },
  {
   "cell_type": "code",
   "execution_count": 3,
   "metadata": {
    "collapsed": true
   },
   "outputs": [],
   "source": [
    "def plot_confusion_matrix(cm, xclasses, yclasses,\n",
    "                          normalize=False,\n",
    "                          title='Confusion matrix',\n",
    "                          cmap=plt.cm.Blues,\n",
    "                          xlabel='Predicted label', ylabel='True label'):\n",
    "    \"\"\"\n",
    "    This function prints and plots the confusion matrix.\n",
    "    Normalization can be applied by setting `normalize=True`.\n",
    "    \"\"\"\n",
    "    plt.imshow(cm, interpolation='nearest', cmap=cmap)\n",
    "    plt.title(title)\n",
    "    plt.colorbar()\n",
    "    xtick_marks = np.arange(len(xclasses))\n",
    "    plt.xticks(xtick_marks, xclasses, rotation=90)\n",
    "    ytick_marks = np.arange(len(yclasses))\n",
    "    plt.yticks(ytick_marks, yclasses)\n",
    "\n",
    "    if normalize:\n",
    "        cm = cm.astype('float') / cm.sum(axis=1)[:, np.newaxis]\n",
    "        print(\"Normalized confusion matrix\")\n",
    "    else:\n",
    "        print('Confusion matrix, without normalization')\n",
    "\n",
    "    plt.tight_layout()\n",
    "    plt.ylabel(ylabel)\n",
    "    plt.xlabel(xlabel)"
   ]
  },
  {
   "cell_type": "code",
   "execution_count": 4,
   "metadata": {
    "collapsed": true
   },
   "outputs": [],
   "source": [
    "orig_data = data = np.load(\"vessels_gear_embedding.npz\")[\"data\"]"
   ]
  },
  {
   "cell_type": "code",
   "execution_count": 5,
   "metadata": {
    "collapsed": true
   },
   "outputs": [],
   "source": [
    "width = 19200\n",
    "labels = ['cargo', 'tanker', 'trawlers', 'sailing', 'set_gillnets', 'pole_and_line', 'motor_passenger', 'reefer', 'tug', 'set_longlines', 'pots_and_traps', 'other_not_fishing', 'gear', 'squid_jigger', 'seismic_vessel', 'purse_seines', 'drifting_longlines', 'other_fishing', 'trollers']\n",
    "label_to_idx = {label: idx for idx, label in enumerate(labels)}\n",
    "idx_to_label = {idx: label for idx, label in enumerate(labels)}\n"
   ]
  },
  {
   "cell_type": "code",
   "execution_count": 6,
   "metadata": {
    "collapsed": true
   },
   "outputs": [],
   "source": [
    "datasize = 10000\n",
    "res = None\n",
    "for idx in xrange(0, len(labels)):\n",
    "    chunk = data[data[:,width+4] == idx]\n",
    "    chunk = chunk[np.random.randint(len(chunk), size=datasize / len(labels)),:]\n",
    "    if res is None:\n",
    "        res = chunk\n",
    "    else:\n",
    "        res = np.append(res, chunk, axis=0)\n",
    "data = res"
   ]
  },
  {
   "cell_type": "code",
   "execution_count": 7,
   "metadata": {
    "collapsed": true
   },
   "outputs": [],
   "source": [
    "stds = data[:,:width].std(axis=0)\n",
    "means = data[:,:width].mean(axis=0)\n",
    "data[:,:width] -= means\n",
    "data[:,:width] /= (stds+1e-30)"
   ]
  },
  {
   "cell_type": "code",
   "execution_count": null,
   "metadata": {
    "collapsed": true
   },
   "outputs": [],
   "source": [
    "nclusters=25\n",
    "clustering = sklearn.cluster.AgglomerativeClustering(linkage=\"ward\", n_clusters=nclusters)"
   ]
  },
  {
   "cell_type": "code",
   "execution_count": null,
   "metadata": {
    "collapsed": true
   },
   "outputs": [],
   "source": [
    "c = clustering.fit(data[:,:width])"
   ]
  },
  {
   "cell_type": "code",
   "execution_count": null,
   "metadata": {
    "collapsed": true
   },
   "outputs": [],
   "source": [
    "cm, xlabels, ylabels = calculate_confusion_matrix(\n",
    "    data[:,width+6:width+6+len(labels)],\n",
    "    clustering.labels_,\n",
    "    labels,\n",
    "    range(0, nclusters))"
   ]
  },
  {
   "cell_type": "code",
   "execution_count": null,
   "metadata": {
    "collapsed": true
   },
   "outputs": [],
   "source": [
    "plt.figure(figsize=(8,8))\n",
    "plot_confusion_matrix(cm, xlabels, ylabels, ylabel='Cluster', xlabel='Class')\n",
    "plt.show()"
   ]
  },
  {
   "cell_type": "code",
   "execution_count": 8,
   "metadata": {
    "collapsed": true
   },
   "outputs": [],
   "source": [
    "import sklearn.decomposition"
   ]
  },
  {
   "cell_type": "code",
   "execution_count": 16,
   "metadata": {},
   "outputs": [
    {
     "name": "stdout",
     "output_type": "stream",
     "text": [
      "Execution time 0:00:50.129738\n",
      "(9994, 50)\n"
     ]
    }
   ],
   "source": [
    "transform = sklearn.decomposition.PCA(n_components=50)\n",
    "\n",
    "transform.fit(data[:,:width])\n",
    "transformed_data = transform.transform(data[:,:width])\n",
    "\n",
    "nclusters=25\n",
    "clustering = sklearn.cluster.AgglomerativeClustering(linkage=\"ward\", n_clusters=nclusters)\n",
    "c = clustering.fit(transformed_data)\n",
    "cm, xlabels, ylabels = calculate_confusion_matrix(\n",
    "    data[:,width+6:width+6+len(labels)],\n",
    "    clustering.labels_,\n",
    "    labels,\n",
    "    range(0, nclusters))\n",
    "plt.figure(figsize=(8,8))\n",
    "plot_confusion_matrix(cm, xlabels, ylabels, ylabel='Cluster', xlabel='Class')\n",
    "plt.show()"
   ]
  },
  {
   "cell_type": "code",
   "execution_count": 24,
   "metadata": {
    "collapsed": true
   },
   "outputs": [],
   "source": [
    "sizes = {label: sum(orig_data[:,width+4] == idx)\n",
    "         for idx, label in enumerate(labels)}"
   ]
  },
  {
   "cell_type": "code",
   "execution_count": 25,
   "metadata": {},
   "outputs": [
    {
     "data": {
      "text/plain": [
       "[('other_not_fishing', 6),\n",
       " ('trollers', 112),\n",
       " ('other_fishing', 217),\n",
       " ('gear', 323),\n",
       " ('pole_and_line', 372),\n",
       " ('pots_and_traps', 483),\n",
       " ('squid_jigger', 521),\n",
       " ('seismic_vessel', 547),\n",
       " ('set_longlines', 1074),\n",
       " ('reefer', 1500),\n",
       " ('set_gillnets', 1712),\n",
       " ('purse_seines', 3348),\n",
       " ('drifting_longlines', 3783),\n",
       " ('sailing', 6920),\n",
       " ('motor_passenger', 15573),\n",
       " ('trawlers', 16970),\n",
       " ('tug', 21175),\n",
       " ('tanker', 33764),\n",
       " ('cargo', 72826)]"
      ]
     },
     "execution_count": 25,
     "metadata": {},
     "output_type": "execute_result"
    }
   ],
   "source": [
    "sorted(sizes.items(), cmp=lambda a, b: cmp(a[1], b[1]))"
   ]
  },
  {
   "cell_type": "code",
   "execution_count": 26,
   "metadata": {},
   "outputs": [
    {
     "data": {
      "text/plain": [
       "181226"
      ]
     },
     "execution_count": 26,
     "metadata": {},
     "output_type": "execute_result"
    }
   ],
   "source": [
    "len(orig_data)"
   ]
  },
  {
   "cell_type": "code",
   "execution_count": 33,
   "metadata": {},
   "outputs": [
    {
     "name": "stdout",
     "output_type": "stream",
     "text": [
      "Confusion matrix, without normalization\n"
     ]
    },
    {
     "data": {
      "image/png": "[encoded data removed]",
      "text/plain": [
       "<matplotlib.figure.Figure at 0x7f0c210cddd0>"
      ]
     },
     "metadata": {},
     "output_type": "display_data"
    }
   ],
   "source": [
    "transform = sklearn.decomposition.PCA(n_components=50)\n",
    "\n",
    "transform.fit(data[:,:width])\n",
    "\n",
    "random_data = orig_data[np.random.randint(len(orig_data), size=20000),:]\n",
    "\n",
    "transformed_data = transform.transform(random_data[:,:width])\n",
    "\n",
    "nclusters=25\n",
    "clustering = sklearn.cluster.AgglomerativeClustering(linkage=\"ward\", n_clusters=nclusters)\n",
    "c = clustering.fit(transformed_data)\n",
    "cm, xlabels, ylabels = calculate_confusion_matrix(\n",
    "    random_data[:,width+6:width+6+len(labels)],\n",
    "    clustering.labels_,\n",
    "    labels,\n",
    "    range(0, nclusters))\n",
    "plt.figure(figsize=(8,8))\n",
    "plot_confusion_matrix(cm, xlabels, ylabels, ylabel='Cluster', xlabel='Class')\n",
    "plt.show()"
   ]
  },
  {
   "cell_type": "code",
   "execution_count": 29,
   "metadata": {},
   "outputs": [
    {
     "data": {
      "text/plain": [
       "(181226, 20)"
      ]
     },
     "execution_count": 29,
     "metadata": {},
     "output_type": "execute_result"
    }
   ],
   "source": [
    "transformed_data.shape"
   ]
  },
  {
   "cell_type": "code",
   "execution_count": 34,
   "metadata": {},
   "outputs": [
    {
     "name": "stdout",
     "output_type": "stream",
     "text": [
      "Confusion matrix, without normalization\n"
     ]
    },
    {
     "data": {
      "image/png": "[encoded data removed]",
      "text/plain": [
       "<matplotlib.figure.Figure at 0x7f059d953310>"
      ]
     },
     "metadata": {},
     "output_type": "display_data"
    }
   ],
   "source": [
    "transform = sklearn.decomposition.PCA(n_components=50)\n",
    "\n",
    "transform.fit(data[:,:width])\n",
    "transformed_data = transform.transform(data[:,:width])\n",
    "\n",
    "nclusters=25\n",
    "clustering = sklearn.cluster.AgglomerativeClustering(linkage=\"ward\", n_clusters=nclusters)\n",
    "c = clustering.fit(transformed_data)\n",
    "cm, xlabels, ylabels = calculate_confusion_matrix(\n",
    "    data[:,width+6:width+6+len(labels)],\n",
    "    clustering.labels_,\n",
    "    labels,\n",
    "    range(0, nclusters))\n",
    "plt.figure(figsize=(8,8))\n",
    "plot_confusion_matrix(cm, xlabels, ylabels, ylabel='Cluster', xlabel='Class')\n",
    "plt.show()"
   ]
  },
  {
   "cell_type": "code",
   "execution_count": null,
   "metadata": {
    "collapsed": true
   },
   "outputs": [],
   "source": []
  }
 ],
 "metadata": {
  "kernelspec": {
   "display_name": "Python 2",
   "language": "python",
   "name": "python2"
  },
  "language_info": {
   "codemirror_mode": {
    "name": "ipython",
    "version": 2
   },
   "file_extension": ".py",
   "mimetype": "text/x-python",
   "name": "python",
   "nbconvert_exporter": "python",
   "pygments_lexer": "ipython2",
   "version": "2.7.9"
  }
 },
 "nbformat": 4,
 "nbformat_minor": 2
}
